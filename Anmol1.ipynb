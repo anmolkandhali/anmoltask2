{
  "nbformat": 4,
  "nbformat_minor": 0,
  "metadata": {
    "colab": {
      "provenance": [],
      "authorship_tag": "ABX9TyOwy7XpPGqDjYQsDvPo/4Zm",
      "include_colab_link": true
    },
    "kernelspec": {
      "name": "python3",
      "display_name": "Python 3"
    },
    "language_info": {
      "name": "python"
    }
  },
  "cells": [
    {
      "cell_type": "markdown",
      "metadata": {
        "id": "view-in-github",
        "colab_type": "text"
      },
      "source": [
        "<a href=\"https://colab.research.google.com/github/anmolkandhali/anmoltask2/blob/main/Anmol1.ipynb\" target=\"_parent\"><img src=\"https://colab.research.google.com/assets/colab-badge.svg\" alt=\"Open In Colab\"/></a>"
      ]
    },
    {
      "cell_type": "code",
      "source": [
        "def factorial(num):\n",
        "    result = 1\n",
        "    i = 1\n",
        "\n",
        "    while i <= num:\n",
        "        result *= i\n",
        "        i += 1\n",
        "\n",
        "    return result\n",
        "\n",
        "\n",
        "\n",
        "number = 20\n",
        "print(\"Factorial of\", number, \"is\", factorial(number))"
      ],
      "metadata": {
        "colab": {
          "base_uri": "https://localhost:8080/"
        },
        "id": "KY75ASeIuE3f",
        "outputId": "9d548598-aa3b-4077-a2ef-30aa0221f241"
      },
      "execution_count": 8,
      "outputs": [
        {
          "output_type": "stream",
          "name": "stdout",
          "text": [
            "Factorial of 20 is 2432902008176640000\n"
          ]
        }
      ]
    },
    {
      "cell_type": "code",
      "source": [],
      "metadata": {
        "id": "3p01DYOr0Fyd"
      },
      "execution_count": null,
      "outputs": []
    }
  ]
}